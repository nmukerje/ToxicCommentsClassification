{
 "cells": [
  {
   "cell_type": "code",
   "execution_count": null,
   "metadata": {
    "ExecuteTime": {
     "end_time": "2020-04-09T22:10:07.611292Z",
     "start_time": "2020-04-09T22:10:05.383621Z"
    }
   },
   "outputs": [],
   "source": [
    "%%sh\n",
    "## Dependencies\n",
    "pip install pydotplus\n",
    "pip install tqdm"
   ]
  },
  {
   "cell_type": "code",
   "execution_count": 1,
   "metadata": {
    "ExecuteTime": {
     "end_time": "2020-04-15T04:45:25.449803Z",
     "start_time": "2020-04-15T04:45:24.801161Z"
    }
   },
   "outputs": [
    {
     "name": "stdout",
     "output_type": "stream",
     "text": [
      "[nltk_data] Downloading package stopwords to\n",
      "[nltk_data]     /home/ec2-user/nltk_data...\n",
      "[nltk_data]   Package stopwords is already up-to-date!\n"
     ]
    },
    {
     "data": {
      "text/plain": [
       "True"
      ]
     },
     "execution_count": 1,
     "metadata": {},
     "output_type": "execute_result"
    }
   ],
   "source": [
    "import nltk\n",
    "nltk.download('stopwords')"
   ]
  },
  {
   "cell_type": "code",
   "execution_count": 2,
   "metadata": {
    "ExecuteTime": {
     "end_time": "2020-04-15T04:45:37.036811Z",
     "start_time": "2020-04-15T04:45:34.403576Z"
    }
   },
   "outputs": [
    {
     "name": "stderr",
     "output_type": "stream",
     "text": [
      "Using TensorFlow backend.\n"
     ]
    },
    {
     "name": "stdout",
     "output_type": "stream",
     "text": [
      "WARNING:tensorflow:From /home/ec2-user/anaconda3/envs/tensorflow_p36/lib/python3.6/site-packages/tensorflow_core/__init__.py:1467: The name tf.estimator.inputs is deprecated. Please use tf.compat.v1.estimator.inputs instead.\n",
      "\n"
     ]
    }
   ],
   "source": [
    "%load_ext autoreload\n",
    "%autoreload 2\n",
    "\n",
    "# helper python file\n",
    "import ml_pipeline as pipeline\n",
    "import numpy as np\n",
    "import pandas as pd\n",
    "from sklearn.model_selection import KFold"
   ]
  },
  {
   "cell_type": "code",
   "execution_count": 3,
   "metadata": {
    "ExecuteTime": {
     "end_time": "2020-04-15T04:46:15.886080Z",
     "start_time": "2020-04-15T04:45:39.517674Z"
    }
   },
   "outputs": [
    {
     "name": "stderr",
     "output_type": "stream",
     "text": [
      "  2%|▏         | 3415/159571 [00:00<00:04, 34149.95it/s]"
     ]
    },
    {
     "name": "stdout",
     "output_type": "stream",
     "text": [
      "num train:  159571\n",
      "num test:  153164\n",
      "pre-processing train data...\n"
     ]
    },
    {
     "name": "stderr",
     "output_type": "stream",
     "text": [
      "100%|██████████| 159571/159571 [00:04<00:00, 35122.78it/s]\n",
      "100%|██████████| 153164/153164 [00:03<00:00, 38701.33it/s]\n"
     ]
    },
    {
     "name": "stdout",
     "output_type": "stream",
     "text": [
      "tokenizing input data...\n",
      "dictionary size:  282101\n"
     ]
    }
   ],
   "source": [
    "(train_df,test_df)=pipeline.read_input_data()\n",
    "(seq_train,seq_test,word_index)=pipeline.tokenize_data(train_df,test_df)"
   ]
  },
  {
   "cell_type": "code",
   "execution_count": 4,
   "metadata": {
    "ExecuteTime": {
     "end_time": "2020-04-15T04:46:50.713145Z",
     "start_time": "2020-04-15T04:46:50.675026Z"
    }
   },
   "outputs": [],
   "source": [
    "label_names = [\"toxic\", \"severe_toxic\", \"obscene\", \"threat\", \"insult\", \"identity_hate\"]"
   ]
  },
  {
   "cell_type": "code",
   "execution_count": 5,
   "metadata": {
    "ExecuteTime": {
     "end_time": "2020-04-15T04:48:07.964782Z",
     "start_time": "2020-04-15T04:46:53.186600Z"
    }
   },
   "outputs": [
    {
     "name": "stderr",
     "output_type": "stream",
     "text": [
      "1193514it [01:14, 16096.20it/s]\n"
     ]
    },
    {
     "name": "stdout",
     "output_type": "stream",
     "text": [
      "preparing embedding matrix...\n",
      "number of null word embeddings: 2316\n"
     ]
    }
   ],
   "source": [
    "embedding_matrix=pipeline.prepare_embeddings(\"Glove-Twitter\",word_index)"
   ]
  },
  {
   "cell_type": "code",
   "execution_count": 13,
   "metadata": {
    "ExecuteTime": {
     "end_time": "2020-04-15T05:23:54.831971Z",
     "start_time": "2020-04-15T05:20:11.692709Z"
    },
    "scrolled": false
   },
   "outputs": [
    {
     "name": "stdout",
     "output_type": "stream",
     "text": [
      " In Fold 1... : \n",
      "\n",
      "TRAIN: 127656 TEST: 31915\n",
      "Building CNN model...\n",
      "_________________________________________________________________\n",
      "Layer (type)                 Output Shape              Param #   \n",
      "=================================================================\n",
      "embedding_12 (Embedding)     (None, 150, 200)          6000000   \n",
      "_________________________________________________________________\n",
      "conv1d_23 (Conv1D)           (None, 150, 64)           89664     \n",
      "_________________________________________________________________\n",
      "batch_normalization_12 (Batc (None, 150, 64)           256       \n",
      "_________________________________________________________________\n",
      "max_pooling1d_12 (MaxPooling (None, 75, 64)            0         \n",
      "_________________________________________________________________\n",
      "conv1d_24 (Conv1D)           (None, 75, 64)            28736     \n",
      "_________________________________________________________________\n",
      "global_max_pooling1d_12 (Glo (None, 64)                0         \n",
      "_________________________________________________________________\n",
      "dropout_12 (Dropout)         (None, 64)                0         \n",
      "_________________________________________________________________\n",
      "dense_23 (Dense)             (None, 32)                2080      \n",
      "_________________________________________________________________\n",
      "dense_24 (Dense)             (None, 6)                 198       \n",
      "=================================================================\n",
      "Total params: 6,120,934\n",
      "Trainable params: 120,806\n",
      "Non-trainable params: 6,000,128\n",
      "_________________________________________________________________\n",
      "Train on 102124 samples, validate on 25532 samples\n",
      "Epoch 1/10\n",
      "102124/102124 [==============================] - 6s 58us/step - loss: 0.1113 - acc: 0.9658 - val_loss: 0.0596 - val_acc: 0.9803\n",
      "Epoch 2/10\n",
      "102124/102124 [==============================] - 3s 30us/step - loss: 0.0609 - acc: 0.9802 - val_loss: 0.0555 - val_acc: 0.9812\n",
      "Epoch 3/10\n",
      "102124/102124 [==============================] - 3s 28us/step - loss: 0.0544 - acc: 0.9817 - val_loss: 0.0538 - val_acc: 0.9815\n",
      "Epoch 4/10\n",
      "102124/102124 [==============================] - 3s 28us/step - loss: 0.0499 - acc: 0.9827 - val_loss: 0.0533 - val_acc: 0.9818\n",
      "Epoch 5/10\n",
      "102124/102124 [==============================] - 3s 28us/step - loss: 0.0462 - acc: 0.9837 - val_loss: 0.0528 - val_acc: 0.9821\n",
      "Epoch 6/10\n",
      "102124/102124 [==============================] - 3s 30us/step - loss: 0.0436 - acc: 0.9843 - val_loss: 0.0528 - val_acc: 0.9819\n",
      "Epoch 7/10\n",
      "102124/102124 [==============================] - 3s 31us/step - loss: 0.0407 - acc: 0.9851 - val_loss: 0.0616 - val_acc: 0.9810\n",
      "Epoch 8/10\n",
      "102124/102124 [==============================] - 3s 31us/step - loss: 0.0386 - acc: 0.9857 - val_loss: 0.0594 - val_acc: 0.9815\n",
      "Epoch 9/10\n",
      "102124/102124 [==============================] - 3s 31us/step - loss: 0.0358 - acc: 0.9864 - val_loss: 0.0558 - val_acc: 0.9822\n",
      "Epoch 10/10\n",
      "102124/102124 [==============================] - 3s 31us/step - loss: 0.0345 - acc: 0.9868 - val_loss: 0.0621 - val_acc: 0.9818\n",
      "<keras.callbacks.History object at 0x7f8106a37550>\n",
      "acc: 98.11%\n",
      "Saved model to disk\n",
      " In Fold 2... : \n",
      "\n",
      "TRAIN: 127657 TEST: 31914\n",
      "Building CNN model...\n",
      "_________________________________________________________________\n",
      "Layer (type)                 Output Shape              Param #   \n",
      "=================================================================\n",
      "embedding_13 (Embedding)     (None, 150, 200)          6000000   \n",
      "_________________________________________________________________\n",
      "conv1d_25 (Conv1D)           (None, 150, 64)           89664     \n",
      "_________________________________________________________________\n",
      "batch_normalization_13 (Batc (None, 150, 64)           256       \n",
      "_________________________________________________________________\n",
      "max_pooling1d_13 (MaxPooling (None, 75, 64)            0         \n",
      "_________________________________________________________________\n",
      "conv1d_26 (Conv1D)           (None, 75, 64)            28736     \n",
      "_________________________________________________________________\n",
      "global_max_pooling1d_13 (Glo (None, 64)                0         \n",
      "_________________________________________________________________\n",
      "dropout_13 (Dropout)         (None, 64)                0         \n",
      "_________________________________________________________________\n",
      "dense_25 (Dense)             (None, 32)                2080      \n",
      "_________________________________________________________________\n",
      "dense_26 (Dense)             (None, 6)                 198       \n",
      "=================================================================\n",
      "Total params: 6,120,934\n",
      "Trainable params: 120,806\n",
      "Non-trainable params: 6,000,128\n",
      "_________________________________________________________________\n",
      "Train on 102125 samples, validate on 25532 samples\n",
      "Epoch 1/10\n",
      "102125/102125 [==============================] - 6s 55us/step - loss: 0.1224 - acc: 0.9613 - val_loss: 0.0607 - val_acc: 0.9804\n",
      "Epoch 2/10\n",
      "102125/102125 [==============================] - 3s 31us/step - loss: 0.0623 - acc: 0.9801 - val_loss: 0.0587 - val_acc: 0.9806\n",
      "Epoch 3/10\n",
      "102125/102125 [==============================] - 3s 31us/step - loss: 0.0555 - acc: 0.9815 - val_loss: 0.0555 - val_acc: 0.9815\n",
      "Epoch 4/10\n",
      "102125/102125 [==============================] - 3s 31us/step - loss: 0.0510 - acc: 0.9825 - val_loss: 0.0537 - val_acc: 0.9818\n",
      "Epoch 5/10\n",
      "102125/102125 [==============================] - 3s 31us/step - loss: 0.0474 - acc: 0.9835 - val_loss: 0.0549 - val_acc: 0.9806\n",
      "Epoch 6/10\n",
      "102125/102125 [==============================] - 3s 31us/step - loss: 0.0447 - acc: 0.9842 - val_loss: 0.0532 - val_acc: 0.9818\n",
      "Epoch 7/10\n",
      "102125/102125 [==============================] - 3s 31us/step - loss: 0.0418 - acc: 0.9849 - val_loss: 0.0567 - val_acc: 0.9798\n",
      "Epoch 8/10\n",
      "102125/102125 [==============================] - 3s 31us/step - loss: 0.0394 - acc: 0.9856 - val_loss: 0.0539 - val_acc: 0.9817\n",
      "Epoch 9/10\n",
      "102125/102125 [==============================] - 3s 31us/step - loss: 0.0373 - acc: 0.9861 - val_loss: 0.0556 - val_acc: 0.9817\n",
      "Epoch 10/10\n",
      "102125/102125 [==============================] - 3s 31us/step - loss: 0.0352 - acc: 0.9868 - val_loss: 0.0559 - val_acc: 0.9815\n",
      "<keras.callbacks.History object at 0x7f8101c94dd8>\n",
      "acc: 98.18%\n",
      "Saved model to disk\n",
      " In Fold 3... : \n",
      "\n",
      "TRAIN: 127657 TEST: 31914\n",
      "Building CNN model...\n",
      "_________________________________________________________________\n",
      "Layer (type)                 Output Shape              Param #   \n",
      "=================================================================\n",
      "embedding_14 (Embedding)     (None, 150, 200)          6000000   \n",
      "_________________________________________________________________\n",
      "conv1d_27 (Conv1D)           (None, 150, 64)           89664     \n",
      "_________________________________________________________________\n",
      "batch_normalization_14 (Batc (None, 150, 64)           256       \n",
      "_________________________________________________________________\n",
      "max_pooling1d_14 (MaxPooling (None, 75, 64)            0         \n",
      "_________________________________________________________________\n",
      "conv1d_28 (Conv1D)           (None, 75, 64)            28736     \n",
      "_________________________________________________________________\n",
      "global_max_pooling1d_14 (Glo (None, 64)                0         \n",
      "_________________________________________________________________\n",
      "dropout_14 (Dropout)         (None, 64)                0         \n",
      "_________________________________________________________________\n",
      "dense_27 (Dense)             (None, 32)                2080      \n",
      "_________________________________________________________________\n",
      "dense_28 (Dense)             (None, 6)                 198       \n",
      "=================================================================\n",
      "Total params: 6,120,934\n",
      "Trainable params: 120,806\n",
      "Non-trainable params: 6,000,128\n",
      "_________________________________________________________________\n",
      "Train on 102125 samples, validate on 25532 samples\n",
      "Epoch 1/10\n",
      "102125/102125 [==============================] - 6s 63us/step - loss: 0.1174 - acc: 0.9650 - val_loss: 0.0618 - val_acc: 0.9801\n",
      "Epoch 2/10\n",
      "102125/102125 [==============================] - 3s 31us/step - loss: 0.0630 - acc: 0.9796 - val_loss: 0.0561 - val_acc: 0.9815\n",
      "Epoch 3/10\n"
     ]
    },
    {
     "name": "stdout",
     "output_type": "stream",
     "text": [
      "102125/102125 [==============================] - 3s 31us/step - loss: 0.0561 - acc: 0.9809 - val_loss: 0.0574 - val_acc: 0.9812\n",
      "Epoch 4/10\n",
      "102125/102125 [==============================] - 3s 31us/step - loss: 0.0520 - acc: 0.9820 - val_loss: 0.0566 - val_acc: 0.9805\n",
      "Epoch 5/10\n",
      "102125/102125 [==============================] - 3s 31us/step - loss: 0.0484 - acc: 0.9829 - val_loss: 0.0554 - val_acc: 0.9814\n",
      "Epoch 6/10\n",
      "102125/102125 [==============================] - 3s 31us/step - loss: 0.0454 - acc: 0.9836 - val_loss: 0.0547 - val_acc: 0.9817\n",
      "Epoch 7/10\n",
      "102125/102125 [==============================] - 3s 31us/step - loss: 0.0429 - acc: 0.9843 - val_loss: 0.0552 - val_acc: 0.9817\n",
      "Epoch 8/10\n",
      "102125/102125 [==============================] - 3s 31us/step - loss: 0.0407 - acc: 0.9849 - val_loss: 0.0548 - val_acc: 0.9812\n",
      "Epoch 9/10\n",
      "102125/102125 [==============================] - 3s 31us/step - loss: 0.0382 - acc: 0.9855 - val_loss: 0.0567 - val_acc: 0.9818\n",
      "Epoch 10/10\n",
      "102125/102125 [==============================] - 3s 31us/step - loss: 0.0364 - acc: 0.9862 - val_loss: 0.0580 - val_acc: 0.9819\n",
      "<keras.callbacks.History object at 0x7f8101713e80>\n",
      "acc: 98.25%\n",
      "Saved model to disk\n",
      " In Fold 4... : \n",
      "\n",
      "TRAIN: 127657 TEST: 31914\n",
      "Building CNN model...\n",
      "_________________________________________________________________\n",
      "Layer (type)                 Output Shape              Param #   \n",
      "=================================================================\n",
      "embedding_15 (Embedding)     (None, 150, 200)          6000000   \n",
      "_________________________________________________________________\n",
      "conv1d_29 (Conv1D)           (None, 150, 64)           89664     \n",
      "_________________________________________________________________\n",
      "batch_normalization_15 (Batc (None, 150, 64)           256       \n",
      "_________________________________________________________________\n",
      "max_pooling1d_15 (MaxPooling (None, 75, 64)            0         \n",
      "_________________________________________________________________\n",
      "conv1d_30 (Conv1D)           (None, 75, 64)            28736     \n",
      "_________________________________________________________________\n",
      "global_max_pooling1d_15 (Glo (None, 64)                0         \n",
      "_________________________________________________________________\n",
      "dropout_15 (Dropout)         (None, 64)                0         \n",
      "_________________________________________________________________\n",
      "dense_29 (Dense)             (None, 32)                2080      \n",
      "_________________________________________________________________\n",
      "dense_30 (Dense)             (None, 6)                 198       \n",
      "=================================================================\n",
      "Total params: 6,120,934\n",
      "Trainable params: 120,806\n",
      "Non-trainable params: 6,000,128\n",
      "_________________________________________________________________\n",
      "Train on 102125 samples, validate on 25532 samples\n",
      "Epoch 1/10\n",
      "102125/102125 [==============================] - 7s 65us/step - loss: 0.1233 - acc: 0.9622 - val_loss: 0.0642 - val_acc: 0.9796\n",
      "Epoch 2/10\n",
      "102125/102125 [==============================] - 3s 32us/step - loss: 0.0629 - acc: 0.9794 - val_loss: 0.0569 - val_acc: 0.9813\n",
      "Epoch 3/10\n",
      "102125/102125 [==============================] - 3s 31us/step - loss: 0.0558 - acc: 0.9810 - val_loss: 0.0548 - val_acc: 0.9817\n",
      "Epoch 4/10\n",
      "102125/102125 [==============================] - 3s 31us/step - loss: 0.0511 - acc: 0.9822 - val_loss: 0.0539 - val_acc: 0.9819\n",
      "Epoch 5/10\n",
      "102125/102125 [==============================] - 3s 32us/step - loss: 0.0475 - acc: 0.9833 - val_loss: 0.0538 - val_acc: 0.9816\n",
      "Epoch 6/10\n",
      "102125/102125 [==============================] - 3s 32us/step - loss: 0.0447 - acc: 0.9840 - val_loss: 0.0551 - val_acc: 0.9822\n",
      "Epoch 7/10\n",
      "102125/102125 [==============================] - 3s 33us/step - loss: 0.0416 - acc: 0.9847 - val_loss: 0.0553 - val_acc: 0.9822\n",
      "Epoch 8/10\n",
      "102125/102125 [==============================] - 3s 32us/step - loss: 0.0395 - acc: 0.9853 - val_loss: 0.0543 - val_acc: 0.9820\n",
      "Epoch 9/10\n",
      "102125/102125 [==============================] - 3s 34us/step - loss: 0.0374 - acc: 0.9859 - val_loss: 0.0568 - val_acc: 0.9822\n",
      "Epoch 10/10\n",
      "102125/102125 [==============================] - 3s 32us/step - loss: 0.0353 - acc: 0.9866 - val_loss: 0.0588 - val_acc: 0.9820\n",
      "<keras.callbacks.History object at 0x7f81010122e8>\n",
      "acc: 98.16%\n",
      "Saved model to disk\n",
      " In Fold 5... : \n",
      "\n",
      "TRAIN: 127657 TEST: 31914\n",
      "Building CNN model...\n",
      "_________________________________________________________________\n",
      "Layer (type)                 Output Shape              Param #   \n",
      "=================================================================\n",
      "embedding_16 (Embedding)     (None, 150, 200)          6000000   \n",
      "_________________________________________________________________\n",
      "conv1d_31 (Conv1D)           (None, 150, 64)           89664     \n",
      "_________________________________________________________________\n",
      "batch_normalization_16 (Batc (None, 150, 64)           256       \n",
      "_________________________________________________________________\n",
      "max_pooling1d_16 (MaxPooling (None, 75, 64)            0         \n",
      "_________________________________________________________________\n",
      "conv1d_32 (Conv1D)           (None, 75, 64)            28736     \n",
      "_________________________________________________________________\n",
      "global_max_pooling1d_16 (Glo (None, 64)                0         \n",
      "_________________________________________________________________\n",
      "dropout_16 (Dropout)         (None, 64)                0         \n",
      "_________________________________________________________________\n",
      "dense_31 (Dense)             (None, 32)                2080      \n",
      "_________________________________________________________________\n",
      "dense_32 (Dense)             (None, 6)                 198       \n",
      "=================================================================\n",
      "Total params: 6,120,934\n",
      "Trainable params: 120,806\n",
      "Non-trainable params: 6,000,128\n",
      "_________________________________________________________________\n",
      "Train on 102125 samples, validate on 25532 samples\n",
      "Epoch 1/10\n",
      "102125/102125 [==============================] - 7s 66us/step - loss: 0.1119 - acc: 0.9671 - val_loss: 0.0618 - val_acc: 0.9796\n",
      "Epoch 2/10\n",
      "102125/102125 [==============================] - 3s 31us/step - loss: 0.0622 - acc: 0.9801 - val_loss: 0.0590 - val_acc: 0.9805\n",
      "Epoch 3/10\n",
      "102125/102125 [==============================] - 3s 31us/step - loss: 0.0557 - acc: 0.9816 - val_loss: 0.0575 - val_acc: 0.9810\n",
      "Epoch 4/10\n",
      "102125/102125 [==============================] - 3s 31us/step - loss: 0.0507 - acc: 0.9828 - val_loss: 0.0550 - val_acc: 0.9813\n",
      "Epoch 5/10\n",
      "102125/102125 [==============================] - 3s 31us/step - loss: 0.0473 - acc: 0.9835 - val_loss: 0.0548 - val_acc: 0.9816\n",
      "Epoch 6/10\n",
      "102125/102125 [==============================] - 3s 31us/step - loss: 0.0442 - acc: 0.9844 - val_loss: 0.0559 - val_acc: 0.9814\n",
      "Epoch 7/10\n",
      "102125/102125 [==============================] - 3s 31us/step - loss: 0.0413 - acc: 0.9852 - val_loss: 0.0551 - val_acc: 0.9810\n",
      "Epoch 8/10\n",
      "102125/102125 [==============================] - 3s 32us/step - loss: 0.0388 - acc: 0.9858 - val_loss: 0.0586 - val_acc: 0.9818\n",
      "Epoch 9/10\n",
      "102125/102125 [==============================] - 3s 32us/step - loss: 0.0366 - acc: 0.9866 - val_loss: 0.0574 - val_acc: 0.9805\n",
      "Epoch 10/10\n",
      "102125/102125 [==============================] - 3s 32us/step - loss: 0.0344 - acc: 0.9871 - val_loss: 0.0594 - val_acc: 0.9814\n",
      "<keras.callbacks.History object at 0x7f810051aba8>\n",
      "acc: 98.19%\n",
      "Saved model to disk\n"
     ]
    }
   ],
   "source": [
    "#5-Fold Cross-Validation\n",
    "\n",
    "kf = KFold(n_splits=5)\n",
    "nfold=1\n",
    "cvscores = []\n",
    "\n",
    "#training params\n",
    "batch_size = 256 \n",
    "num_epochs = 10 \n",
    "\n",
    "for train_index, test_index in kf.split(seq_train):\n",
    "    print(f' In Fold {nfold}... : \\n')\n",
    "    print(\"TRAIN:\", len(train_index), \"TEST:\", len(test_index))\n",
    "    \n",
    "    seq_train_split=seq_train[train_index]\n",
    "    y_train_split = train_df[label_names].iloc[train_index ].values\n",
    "    \n",
    "    # train the model\n",
    "    model=pipeline.init_cnn_model(embedding_matrix)\n",
    "    hist=pipeline.train_model(model,num_epochs,batch_size,seq_train_split,y_train_split)\n",
    "    \n",
    "    # evaluate the model\n",
    "    seq_test_split=seq_train[test_index]\n",
    "    y_test_split = train_df[label_names].iloc[test_index ].values\n",
    "    scores = model.evaluate(seq_test_split, y_test_split, verbose=0)\n",
    "    print(\"%s: %.2f%%\" % (model.metrics_names[1], scores[1]*100))\n",
    "    \n",
    "    # save the model\n",
    "    pipeline.save_model(model, f'models/cnn-fold-{nfold}')\n",
    "    cvscores.append(scores[1] * 100)\n",
    "    \n",
    "    # save OOF predictions\n",
    "    y_test = model.predict(seq_test_split)\n",
    "    pipeline.create_submission_file(train_df.iloc[test_index],y_test,f'outputs/cnn_glove_twitter_cv_{nfold}_oof.csv')\n",
    "    \n",
    "    nfold +=1"
   ]
  },
  {
   "cell_type": "code",
   "execution_count": 14,
   "metadata": {
    "ExecuteTime": {
     "end_time": "2020-04-15T05:24:43.520928Z",
     "start_time": "2020-04-15T05:24:43.480188Z"
    }
   },
   "outputs": [
    {
     "data": {
      "text/plain": [
       "[98.10642722630489,\n",
       " 98.17739214568148,\n",
       " 98.25259423341086,\n",
       " 98.15598036432024,\n",
       " 98.18888144130925]"
      ]
     },
     "execution_count": 14,
     "metadata": {},
     "output_type": "execute_result"
    }
   ],
   "source": [
    "cvscores"
   ]
  },
  {
   "cell_type": "code",
   "execution_count": 15,
   "metadata": {
    "ExecuteTime": {
     "end_time": "2020-04-15T05:24:49.694101Z",
     "start_time": "2020-04-15T05:24:46.873477Z"
    }
   },
   "outputs": [
    {
     "name": "stdout",
     "output_type": "stream",
     "text": [
      "best_model_index : 3\n",
      "Loaded model from disk\n"
     ]
    }
   ],
   "source": [
    "best_model_index=cvscores.index(max(cvscores))+1\n",
    "print (f'best_model_index : {best_model_index}')\n",
    "best_model=pipeline.load_model(f'models/cnn-fold-{best_model_index}')"
   ]
  },
  {
   "cell_type": "code",
   "execution_count": 26,
   "metadata": {
    "ExecuteTime": {
     "end_time": "2020-04-15T05:48:57.488781Z",
     "start_time": "2020-04-15T05:48:49.101748Z"
    }
   },
   "outputs": [
    {
     "name": "stdout",
     "output_type": "stream",
     "text": [
      "(153164, 7)\n"
     ]
    }
   ],
   "source": [
    "y_test = best_model.predict(seq_test)\n",
    "pipeline.create_submission_file(test_df,y_test,f'outputs/cnn_glove_twitter_cv_submission.csv')"
   ]
  },
  {
   "cell_type": "code",
   "execution_count": 37,
   "metadata": {
    "ExecuteTime": {
     "end_time": "2020-04-15T06:05:31.605099Z",
     "start_time": "2020-04-15T06:05:31.284918Z"
    }
   },
   "outputs": [],
   "source": [
    "# concatenate OOF files\n",
    "dataframes = []\n",
    "filenames=[1,2,3,4,5]\n",
    "for i in filenames:\n",
    "    dataframes.append(pd.read_csv(f'outputs/cnn_glove_twitter_cv_{i}_oof.csv'))\n",
    "oof=dataframes[0]\n",
    "for df in dataframes[1:]:\n",
    "    oof=oof.append(df)\n",
    "print (oof.shape)\n",
    "oof.to_csv('outputs/cnn_glove_twitter_cv_oof.csv', index=False)"
   ]
  },
  {
   "cell_type": "code",
   "execution_count": null,
   "metadata": {},
   "outputs": [],
   "source": []
  }
 ],
 "metadata": {
  "kernelspec": {
   "display_name": "conda_tensorflow_p36",
   "language": "python",
   "name": "conda_tensorflow_p36"
  },
  "language_info": {
   "codemirror_mode": {
    "name": "ipython",
    "version": 3
   },
   "file_extension": ".py",
   "mimetype": "text/x-python",
   "name": "python",
   "nbconvert_exporter": "python",
   "pygments_lexer": "ipython3",
   "version": "3.6.6"
  }
 },
 "nbformat": 4,
 "nbformat_minor": 4
}
