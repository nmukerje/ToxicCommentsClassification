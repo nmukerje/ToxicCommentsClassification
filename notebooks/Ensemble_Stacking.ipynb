{
 "cells": [
  {
   "cell_type": "code",
   "execution_count": 1,
   "metadata": {
    "ExecuteTime": {
     "end_time": "2020-04-15T06:10:31.372571Z",
     "start_time": "2020-04-15T06:10:26.841393Z"
    }
   },
   "outputs": [
    {
     "name": "stdout",
     "output_type": "stream",
     "text": [
      "Collecting lightgbm\n",
      "  Downloading https://files.pythonhosted.org/packages/0b/9d/ddcb2f43aca194987f1a99e27edf41cf9bc39ea750c3371c2a62698c509a/lightgbm-2.3.1-py2.py3-none-manylinux1_x86_64.whl (1.2MB)\n",
      "Requirement already satisfied: numpy in /home/ec2-user/anaconda3/envs/python3/lib/python3.6/site-packages (from lightgbm) (1.14.3)\n",
      "Requirement already satisfied: scikit-learn in /home/ec2-user/anaconda3/envs/python3/lib/python3.6/site-packages (from lightgbm) (0.20.3)\n",
      "Requirement already satisfied: scipy in /home/ec2-user/anaconda3/envs/python3/lib/python3.6/site-packages (from lightgbm) (1.1.0)\n",
      "Installing collected packages: lightgbm\n",
      "Successfully installed lightgbm-2.3.1\n"
     ]
    },
    {
     "name": "stderr",
     "output_type": "stream",
     "text": [
      "You are using pip version 10.0.1, however version 20.0.2 is available.\n",
      "You should consider upgrading via the 'pip install --upgrade pip' command.\n"
     ]
    }
   ],
   "source": [
    "%%sh\n",
    "pip install lightgbm"
   ]
  },
  {
   "cell_type": "code",
   "execution_count": 2,
   "metadata": {
    "ExecuteTime": {
     "end_time": "2020-04-15T06:17:04.220743Z",
     "start_time": "2020-04-15T06:17:03.411942Z"
    }
   },
   "outputs": [],
   "source": [
    "import numpy as np\n",
    "import pandas as pd\n",
    "from sklearn.preprocessing import StandardScaler\n",
    "import re"
   ]
  },
  {
   "cell_type": "code",
   "execution_count": 3,
   "metadata": {
    "ExecuteTime": {
     "end_time": "2020-04-15T06:17:07.908215Z",
     "start_time": "2020-04-15T06:17:05.965083Z"
    }
   },
   "outputs": [],
   "source": [
    "train = pd.read_csv('./data/train_preprocessed.csv').fillna(' ')\n",
    "test = pd.read_csv('./data/test_preprocessed.csv').fillna(' ')\n",
    "sub = pd.read_csv('./data/sample_submission.csv')\n",
    "INPUT_COLUMN = \"comment_text\"\n",
    "LABELS = train.columns[2:]"
   ]
  },
  {
   "cell_type": "code",
   "execution_count": 4,
   "metadata": {
    "ExecuteTime": {
     "end_time": "2020-04-15T06:17:10.003242Z",
     "start_time": "2020-04-15T06:17:09.697985Z"
    }
   },
   "outputs": [
    {
     "data": {
      "text/plain": [
       "(153164, 7)"
      ]
     },
     "execution_count": 4,
     "metadata": {},
     "output_type": "execute_result"
    }
   ],
   "source": [
    "sub=pd.read_csv(\"outputs/cnn_glove_twitter_cv_3_submission.csv\")\n",
    "sub.head()\n",
    "sub.shape"
   ]
  },
  {
   "cell_type": "code",
   "execution_count": 6,
   "metadata": {
    "ExecuteTime": {
     "end_time": "2020-04-15T06:17:12.978456Z",
     "start_time": "2020-04-15T06:17:12.974647Z"
    }
   },
   "outputs": [],
   "source": [
    "def get_subs(nums):\n",
    "    subs = np.hstack([np.array(pd.read_csv(\"outputs/\" + str(l) + \"_submission.csv\")[LABELS]) for l in sublabels])\n",
    "    oofs = np.hstack([np.array(pd.read_csv(\"outputs/\" + str(l) + \"_oof.csv\")[LABELS]) for l in sublabels])\n",
    "    return subs, oofs"
   ]
  },
  {
   "cell_type": "code",
   "execution_count": 7,
   "metadata": {
    "ExecuteTime": {
     "end_time": "2020-04-15T06:17:16.057754Z",
     "start_time": "2020-04-15T06:17:15.410802Z"
    }
   },
   "outputs": [],
   "source": [
    "sublabels = ['cnn_glove_twitter_cv','bilstm_cnn_glove_twitter_cv']\n",
    "subs, oofs = get_subs(sublabels)"
   ]
  },
  {
   "cell_type": "code",
   "execution_count": 8,
   "metadata": {
    "ExecuteTime": {
     "end_time": "2020-04-15T06:17:19.704950Z",
     "start_time": "2020-04-15T06:17:19.702224Z"
    }
   },
   "outputs": [],
   "source": [
    "X_train = oofs\n",
    "X_test = subs"
   ]
  },
  {
   "cell_type": "code",
   "execution_count": 9,
   "metadata": {},
   "outputs": [
    {
     "data": {
      "text/plain": [
       "(159571, 12)"
      ]
     },
     "execution_count": 9,
     "metadata": {},
     "output_type": "execute_result"
    }
   ],
   "source": [
    "X_train.shape"
   ]
  },
  {
   "cell_type": "code",
   "execution_count": 10,
   "metadata": {},
   "outputs": [
    {
     "data": {
      "text/plain": [
       "(153164, 12)"
      ]
     },
     "execution_count": 10,
     "metadata": {},
     "output_type": "execute_result"
    }
   ],
   "source": [
    "X_test.shape"
   ]
  },
  {
   "cell_type": "code",
   "execution_count": 11,
   "metadata": {
    "ExecuteTime": {
     "end_time": "2020-04-15T06:17:43.806386Z",
     "start_time": "2020-04-15T06:17:23.439332Z"
    }
   },
   "outputs": [
    {
     "name": "stdout",
     "output_type": "stream",
     "text": [
      "toxic\n",
      "AUC: [0.9790311  0.97948162 0.98104419 0.97984363 0.97825441]\n",
      "severe_toxic\n",
      "AUC: [0.98991301 0.99044202 0.9888139  0.99057071 0.99028526]\n",
      "obscene\n",
      "AUC: [0.99246275 0.99275784 0.99373844 0.99253087 0.99265268]\n",
      "threat\n",
      "AUC: [0.9749159  0.98533355 0.9843935  0.98356276 0.98077007]\n",
      "insult\n",
      "AUC: [0.98564618 0.98533154 0.98637602 0.98603696 0.98461002]\n",
      "identity_hate\n",
      "AUC: [0.98657831 0.98406924 0.98664803 0.98767493 0.99130171]\n",
      "CV score: 0.9861690382767573\n"
     ]
    }
   ],
   "source": [
    "import lightgbm as lgb\n",
    "from sklearn.model_selection import cross_val_score\n",
    "\n",
    "stacker = lgb.LGBMClassifier(max_depth=3, metric=\"auc\", n_estimators=125, num_leaves=10, boosting_type=\"gbdt\", learning_rate=0.1, feature_fraction=0.45, colsample_bytree=0.45, bagging_fraction=0.8, bagging_freq=5, reg_lambda=0.2)\n",
    "    \n",
    "# Fit and submit\n",
    "scores = []\n",
    "for label in LABELS:\n",
    "    print(label)\n",
    "    score = cross_val_score(stacker, X_train, train[label], cv=5, scoring='roc_auc')\n",
    "    print(\"AUC:\", score)\n",
    "    scores.append(np.mean(score))\n",
    "    stacker.fit(X_train, train[label])\n",
    "    sub[label] = stacker.predict_proba(X_test)[:,1]\n",
    "print(\"CV score:\", np.mean(scores))"
   ]
  },
  {
   "cell_type": "code",
   "execution_count": 12,
   "metadata": {
    "ExecuteTime": {
     "end_time": "2020-04-15T06:18:25.649943Z",
     "start_time": "2020-04-15T06:18:23.277925Z"
    }
   },
   "outputs": [],
   "source": [
    "sub.to_csv(\"outputs/submission_ensemble.csv\", index=False)"
   ]
  },
  {
   "cell_type": "code",
   "execution_count": 13,
   "metadata": {},
   "outputs": [
    {
     "data": {
      "text/plain": [
       "(153164, 7)"
      ]
     },
     "execution_count": 13,
     "metadata": {},
     "output_type": "execute_result"
    }
   ],
   "source": [
    "sub.shape"
   ]
  },
  {
   "cell_type": "code",
   "execution_count": null,
   "metadata": {},
   "outputs": [],
   "source": []
  }
 ],
 "metadata": {
  "kernelspec": {
   "display_name": "conda_python3",
   "language": "python",
   "name": "conda_python3"
  },
  "language_info": {
   "codemirror_mode": {
    "name": "ipython",
    "version": 3
   },
   "file_extension": ".py",
   "mimetype": "text/x-python",
   "name": "python",
   "nbconvert_exporter": "python",
   "pygments_lexer": "ipython3",
   "version": "3.6.5"
  }
 },
 "nbformat": 4,
 "nbformat_minor": 4
}
