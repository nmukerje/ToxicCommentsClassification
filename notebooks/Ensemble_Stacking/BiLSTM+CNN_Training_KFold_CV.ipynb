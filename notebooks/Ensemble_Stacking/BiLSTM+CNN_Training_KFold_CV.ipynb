{
 "cells": [
  {
   "cell_type": "code",
   "execution_count": 1,
   "metadata": {
    "ExecuteTime": {
     "end_time": "2020-04-09T22:10:07.611292Z",
     "start_time": "2020-04-09T22:10:05.383621Z"
    }
   },
   "outputs": [
    {
     "name": "stdout",
     "output_type": "stream",
     "text": [
      "Collecting pydotplus\n",
      "  Downloading https://files.pythonhosted.org/packages/60/bf/62567830b700d9f6930e9ab6831d6ba256f7b0b730acb37278b0ccdffacf/pydotplus-2.0.2.tar.gz (278kB)\n",
      "Requirement already satisfied: pyparsing>=2.0.1 in /home/ec2-user/anaconda3/envs/tensorflow_p36/lib/python3.6/site-packages (from pydotplus) (2.2.0)\n",
      "Building wheels for collected packages: pydotplus\n",
      "  Building wheel for pydotplus (setup.py): started\n",
      "  Building wheel for pydotplus (setup.py): finished with status 'done'\n",
      "  Created wheel for pydotplus: filename=pydotplus-2.0.2-cp36-none-any.whl size=23674 sha256=7dfb5df7b5dbc090124ddbcd72a444a1b92428268e1d1dd2fa009ad159a5b787\n",
      "  Stored in directory: /home/ec2-user/.cache/pip/wheels/35/7b/ab/66fb7b2ac1f6df87475b09dc48e707b6e0de80a6d8444e3628\n",
      "Successfully built pydotplus\n",
      "Installing collected packages: pydotplus\n",
      "Successfully installed pydotplus-2.0.2\n",
      "Collecting tqdm\n",
      "  Downloading https://files.pythonhosted.org/packages/4a/1c/6359be64e8301b84160f6f6f7936bbfaaa5e9a4eab6cbc681db07600b949/tqdm-4.45.0-py2.py3-none-any.whl (60kB)\n",
      "Installing collected packages: tqdm\n",
      "Successfully installed tqdm-4.45.0\n"
     ]
    },
    {
     "name": "stderr",
     "output_type": "stream",
     "text": [
      "WARNING: You are using pip version 19.3.1; however, version 20.0.2 is available.\n",
      "You should consider upgrading via the 'pip install --upgrade pip' command.\n",
      "WARNING: You are using pip version 19.3.1; however, version 20.0.2 is available.\n",
      "You should consider upgrading via the 'pip install --upgrade pip' command.\n"
     ]
    }
   ],
   "source": [
    "%%sh\n",
    "## Dependencies\n",
    "pip install pydotplus\n",
    "pip install tqdm"
   ]
  },
  {
   "cell_type": "code",
   "execution_count": 2,
   "metadata": {
    "ExecuteTime": {
     "end_time": "2020-04-15T04:45:25.449803Z",
     "start_time": "2020-04-15T04:45:24.801161Z"
    }
   },
   "outputs": [
    {
     "name": "stdout",
     "output_type": "stream",
     "text": [
      "[nltk_data] Downloading package stopwords to\n",
      "[nltk_data]     /home/ec2-user/nltk_data...\n",
      "[nltk_data]   Unzipping corpora/stopwords.zip.\n"
     ]
    },
    {
     "data": {
      "text/plain": [
       "True"
      ]
     },
     "execution_count": 2,
     "metadata": {},
     "output_type": "execute_result"
    }
   ],
   "source": [
    "import nltk\n",
    "nltk.download('stopwords')"
   ]
  },
  {
   "cell_type": "code",
   "execution_count": 3,
   "metadata": {
    "ExecuteTime": {
     "end_time": "2020-04-15T04:45:37.036811Z",
     "start_time": "2020-04-15T04:45:34.403576Z"
    }
   },
   "outputs": [
    {
     "name": "stderr",
     "output_type": "stream",
     "text": [
      "Using TensorFlow backend.\n"
     ]
    },
    {
     "name": "stdout",
     "output_type": "stream",
     "text": [
      "WARNING:tensorflow:From /home/ec2-user/anaconda3/envs/tensorflow_p36/lib/python3.6/site-packages/tensorflow_core/__init__.py:1467: The name tf.estimator.inputs is deprecated. Please use tf.compat.v1.estimator.inputs instead.\n",
      "\n"
     ]
    }
   ],
   "source": [
    "%load_ext autoreload\n",
    "%autoreload 2\n",
    "\n",
    "# helper python file\n",
    "import ml_pipeline as pipeline\n",
    "import numpy as np\n",
    "import pandas as pd\n",
    "from sklearn.model_selection import KFold"
   ]
  },
  {
   "cell_type": "code",
   "execution_count": 4,
   "metadata": {
    "ExecuteTime": {
     "end_time": "2020-04-15T04:46:15.886080Z",
     "start_time": "2020-04-15T04:45:39.517674Z"
    }
   },
   "outputs": [
    {
     "name": "stderr",
     "output_type": "stream",
     "text": [
      "  2%|▏         | 3419/159571 [00:00<00:04, 34187.02it/s]"
     ]
    },
    {
     "name": "stdout",
     "output_type": "stream",
     "text": [
      "num train:  159571\n",
      "num test:  153164\n",
      "pre-processing train data...\n"
     ]
    },
    {
     "name": "stderr",
     "output_type": "stream",
     "text": [
      "100%|██████████| 159571/159571 [00:04<00:00, 35137.02it/s]\n",
      "100%|██████████| 153164/153164 [00:03<00:00, 38763.95it/s]\n"
     ]
    },
    {
     "name": "stdout",
     "output_type": "stream",
     "text": [
      "tokenizing input data...\n",
      "dictionary size:  282101\n"
     ]
    }
   ],
   "source": [
    "(train_df,test_df)=pipeline.read_input_data()\n",
    "(seq_train,seq_test,word_index)=pipeline.tokenize_data(train_df,test_df)"
   ]
  },
  {
   "cell_type": "code",
   "execution_count": 5,
   "metadata": {
    "ExecuteTime": {
     "end_time": "2020-04-15T04:46:50.713145Z",
     "start_time": "2020-04-15T04:46:50.675026Z"
    }
   },
   "outputs": [],
   "source": [
    "label_names = [\"toxic\", \"severe_toxic\", \"obscene\", \"threat\", \"insult\", \"identity_hate\"]"
   ]
  },
  {
   "cell_type": "code",
   "execution_count": 6,
   "metadata": {
    "ExecuteTime": {
     "end_time": "2020-04-15T04:48:07.964782Z",
     "start_time": "2020-04-15T04:46:53.186600Z"
    }
   },
   "outputs": [
    {
     "name": "stderr",
     "output_type": "stream",
     "text": [
      "1193514it [09:06, 2184.10it/s]\n"
     ]
    },
    {
     "name": "stdout",
     "output_type": "stream",
     "text": [
      "preparing embedding matrix...\n",
      "number of null word embeddings: 2316\n"
     ]
    }
   ],
   "source": [
    "embedding_matrix=pipeline.prepare_embeddings(\"Glove-Twitter\",word_index)"
   ]
  },
  {
   "cell_type": "code",
   "execution_count": 7,
   "metadata": {},
   "outputs": [],
   "source": [
    "model_name='bilstm_cnn_glove_twitter_cv'"
   ]
  },
  {
   "cell_type": "code",
   "execution_count": 11,
   "metadata": {},
   "outputs": [],
   "source": [
    "import numpy as np\n",
    "import pandas as pd\n",
    "from keras.layers import Dense, Input, LSTM, Bidirectional, Conv1D\n",
    "from keras.layers import Dropout, Embedding\n",
    "from keras.preprocessing import text, sequence\n",
    "from keras.layers import GlobalMaxPooling1D, GlobalAveragePooling1D, concatenate, SpatialDropout1D\n",
    "from keras.models import Model\n",
    "\n",
    "def init_BiLSTM_Conv_Model(embedding_matrix):\n",
    "    # Build Model\n",
    "    inp = Input(shape=(max_seq_len,))\n",
    "\n",
    "    x = Embedding(max_features, embedding_matrix.shape[1], weights=[embedding_matrix], trainable=False)(inp)\n",
    "    x = SpatialDropout1D(0.35)(x)\n",
    "\n",
    "    x = Bidirectional(LSTM(128, return_sequences=True, dropout=0.15, recurrent_dropout=0.15))(x)\n",
    "    x = Conv1D(64, kernel_size=3, padding='valid', kernel_initializer='glorot_uniform')(x)\n",
    "\n",
    "    avg_pool = GlobalAveragePooling1D()(x)\n",
    "    max_pool = GlobalMaxPooling1D()(x)\n",
    "    x = concatenate([avg_pool, max_pool])\n",
    "\n",
    "    out = Dense(6, activation='sigmoid')(x)\n",
    "\n",
    "    model = Model(inp, out)\n",
    "    model.compile(loss='binary_crossentropy', optimizer='adam', metrics=['accuracy'])\n",
    "    model.summary()\n",
    "    return model"
   ]
  },
  {
   "cell_type": "code",
   "execution_count": 13,
   "metadata": {},
   "outputs": [],
   "source": [
    "max_features=30000\n",
    "max_seq_len=150"
   ]
  },
  {
   "cell_type": "code",
   "execution_count": null,
   "metadata": {
    "ExecuteTime": {
     "end_time": "2020-04-15T05:23:54.831971Z",
     "start_time": "2020-04-15T05:20:11.692709Z"
    },
    "scrolled": false
   },
   "outputs": [
    {
     "name": "stdout",
     "output_type": "stream",
     "text": [
      " In Fold 1... : \n",
      "\n",
      "TRAIN: 127656 TEST: 31915\n",
      "WARNING:tensorflow:From /home/ec2-user/anaconda3/envs/tensorflow_p36/lib/python3.6/site-packages/keras/backend/tensorflow_backend.py:74: The name tf.get_default_graph is deprecated. Please use tf.compat.v1.get_default_graph instead.\n",
      "\n",
      "WARNING:tensorflow:From /home/ec2-user/anaconda3/envs/tensorflow_p36/lib/python3.6/site-packages/keras/backend/tensorflow_backend.py:517: The name tf.placeholder is deprecated. Please use tf.compat.v1.placeholder instead.\n",
      "\n",
      "WARNING:tensorflow:From /home/ec2-user/anaconda3/envs/tensorflow_p36/lib/python3.6/site-packages/keras/backend/tensorflow_backend.py:4138: The name tf.random_uniform is deprecated. Please use tf.random.uniform instead.\n",
      "\n",
      "WARNING:tensorflow:From /home/ec2-user/anaconda3/envs/tensorflow_p36/lib/python3.6/site-packages/keras/backend/tensorflow_backend.py:174: The name tf.get_default_session is deprecated. Please use tf.compat.v1.get_default_session instead.\n",
      "\n",
      "WARNING:tensorflow:From /home/ec2-user/anaconda3/envs/tensorflow_p36/lib/python3.6/site-packages/keras/backend/tensorflow_backend.py:181: The name tf.ConfigProto is deprecated. Please use tf.compat.v1.ConfigProto instead.\n",
      "\n",
      "WARNING:tensorflow:From /home/ec2-user/anaconda3/envs/tensorflow_p36/lib/python3.6/site-packages/keras/backend/tensorflow_backend.py:186: The name tf.Session is deprecated. Please use tf.compat.v1.Session instead.\n",
      "\n",
      "WARNING:tensorflow:From /home/ec2-user/anaconda3/envs/tensorflow_p36/lib/python3.6/site-packages/keras/backend/tensorflow_backend.py:190: The name tf.global_variables is deprecated. Please use tf.compat.v1.global_variables instead.\n",
      "\n",
      "WARNING:tensorflow:From /home/ec2-user/anaconda3/envs/tensorflow_p36/lib/python3.6/site-packages/keras/backend/tensorflow_backend.py:199: The name tf.is_variable_initialized is deprecated. Please use tf.compat.v1.is_variable_initialized instead.\n",
      "\n",
      "WARNING:tensorflow:From /home/ec2-user/anaconda3/envs/tensorflow_p36/lib/python3.6/site-packages/keras/backend/tensorflow_backend.py:206: The name tf.variables_initializer is deprecated. Please use tf.compat.v1.variables_initializer instead.\n",
      "\n",
      "WARNING:tensorflow:From /home/ec2-user/anaconda3/envs/tensorflow_p36/lib/python3.6/site-packages/keras/backend/tensorflow_backend.py:133: The name tf.placeholder_with_default is deprecated. Please use tf.compat.v1.placeholder_with_default instead.\n",
      "\n",
      "WARNING:tensorflow:From /home/ec2-user/anaconda3/envs/tensorflow_p36/lib/python3.6/site-packages/keras/backend/tensorflow_backend.py:3445: calling dropout (from tensorflow.python.ops.nn_ops) with keep_prob is deprecated and will be removed in a future version.\n",
      "Instructions for updating:\n",
      "Please use `rate` instead of `keep_prob`. Rate should be set to `rate = 1 - keep_prob`.\n",
      "WARNING:tensorflow:From /home/ec2-user/anaconda3/envs/tensorflow_p36/lib/python3.6/site-packages/keras/optimizers.py:790: The name tf.train.Optimizer is deprecated. Please use tf.compat.v1.train.Optimizer instead.\n",
      "\n",
      "WARNING:tensorflow:From /home/ec2-user/anaconda3/envs/tensorflow_p36/lib/python3.6/site-packages/keras/backend/tensorflow_backend.py:3376: The name tf.log is deprecated. Please use tf.math.log instead.\n",
      "\n",
      "WARNING:tensorflow:From /home/ec2-user/anaconda3/envs/tensorflow_p36/lib/python3.6/site-packages/tensorflow_core/python/ops/nn_impl.py:183: where (from tensorflow.python.ops.array_ops) is deprecated and will be removed in a future version.\n",
      "Instructions for updating:\n",
      "Use tf.where in 2.0, which has the same broadcast rule as np.where\n",
      "__________________________________________________________________________________________________\n",
      "Layer (type)                    Output Shape         Param #     Connected to                     \n",
      "==================================================================================================\n",
      "input_1 (InputLayer)            (None, 150)          0                                            \n",
      "__________________________________________________________________________________________________\n",
      "embedding_1 (Embedding)         (None, 150, 200)     6000000     input_1[0][0]                    \n",
      "__________________________________________________________________________________________________\n",
      "spatial_dropout1d_1 (SpatialDro (None, 150, 200)     0           embedding_1[0][0]                \n",
      "__________________________________________________________________________________________________\n",
      "bidirectional_1 (Bidirectional) (None, 150, 256)     336896      spatial_dropout1d_1[0][0]        \n",
      "__________________________________________________________________________________________________\n",
      "conv1d_1 (Conv1D)               (None, 148, 64)      49216       bidirectional_1[0][0]            \n",
      "__________________________________________________________________________________________________\n",
      "global_average_pooling1d_1 (Glo (None, 64)           0           conv1d_1[0][0]                   \n",
      "__________________________________________________________________________________________________\n",
      "global_max_pooling1d_1 (GlobalM (None, 64)           0           conv1d_1[0][0]                   \n",
      "__________________________________________________________________________________________________\n",
      "concatenate_1 (Concatenate)     (None, 128)          0           global_average_pooling1d_1[0][0] \n",
      "                                                                 global_max_pooling1d_1[0][0]     \n",
      "__________________________________________________________________________________________________\n",
      "dense_1 (Dense)                 (None, 6)            774         concatenate_1[0][0]              \n",
      "==================================================================================================\n",
      "Total params: 6,386,886\n",
      "Trainable params: 386,886\n",
      "Non-trainable params: 6,000,000\n",
      "__________________________________________________________________________________________________\n",
      "WARNING:tensorflow:From /home/ec2-user/anaconda3/envs/tensorflow_p36/lib/python3.6/site-packages/keras/backend/tensorflow_backend.py:986: The name tf.assign_add is deprecated. Please use tf.compat.v1.assign_add instead.\n",
      "\n",
      "WARNING:tensorflow:From /home/ec2-user/anaconda3/envs/tensorflow_p36/lib/python3.6/site-packages/keras/backend/tensorflow_backend.py:973: The name tf.assign is deprecated. Please use tf.compat.v1.assign instead.\n",
      "\n",
      "Train on 102124 samples, validate on 25532 samples\n",
      "Epoch 1/5\n",
      "102124/102124 [==============================] - 445s 4ms/step - loss: 0.0647 - acc: 0.9783 - val_loss: 0.0476 - val_acc: 0.9818\n",
      "Epoch 2/5\n",
      "102124/102124 [==============================] - 421s 4ms/step - loss: 0.0489 - acc: 0.9819 - val_loss: 0.0448 - val_acc: 0.9827\n",
      "Epoch 3/5\n",
      "102124/102124 [==============================] - 422s 4ms/step - loss: 0.0453 - acc: 0.9828 - val_loss: 0.0435 - val_acc: 0.9831\n",
      "Epoch 4/5\n",
      "102124/102124 [==============================] - 422s 4ms/step - loss: 0.0433 - acc: 0.9835 - val_loss: 0.0446 - val_acc: 0.9824\n",
      "Epoch 5/5\n",
      "102124/102124 [==============================] - 422s 4ms/step - loss: 0.0417 - acc: 0.9840 - val_loss: 0.0433 - val_acc: 0.9829\n",
      "<keras.callbacks.History object at 0x7fb708d6ffd0>\n",
      "acc: 98.30%\n",
      "Saved model to disk\n",
      "(31915, 7)\n",
      " In Fold 2... : \n",
      "\n",
      "TRAIN: 127657 TEST: 31914\n",
      "__________________________________________________________________________________________________\n",
      "Layer (type)                    Output Shape         Param #     Connected to                     \n",
      "==================================================================================================\n",
      "input_2 (InputLayer)            (None, 150)          0                                            \n",
      "__________________________________________________________________________________________________\n",
      "embedding_2 (Embedding)         (None, 150, 200)     6000000     input_2[0][0]                    \n",
      "__________________________________________________________________________________________________\n",
      "spatial_dropout1d_2 (SpatialDro (None, 150, 200)     0           embedding_2[0][0]                \n",
      "__________________________________________________________________________________________________\n",
      "bidirectional_2 (Bidirectional) (None, 150, 256)     336896      spatial_dropout1d_2[0][0]        \n",
      "__________________________________________________________________________________________________\n",
      "conv1d_2 (Conv1D)               (None, 148, 64)      49216       bidirectional_2[0][0]            \n",
      "__________________________________________________________________________________________________\n",
      "global_average_pooling1d_2 (Glo (None, 64)           0           conv1d_2[0][0]                   \n",
      "__________________________________________________________________________________________________\n",
      "global_max_pooling1d_2 (GlobalM (None, 64)           0           conv1d_2[0][0]                   \n",
      "__________________________________________________________________________________________________\n",
      "concatenate_2 (Concatenate)     (None, 128)          0           global_average_pooling1d_2[0][0] \n",
      "                                                                 global_max_pooling1d_2[0][0]     \n",
      "__________________________________________________________________________________________________\n",
      "dense_2 (Dense)                 (None, 6)            774         concatenate_2[0][0]              \n",
      "==================================================================================================\n",
      "Total params: 6,386,886\n",
      "Trainable params: 386,886\n",
      "Non-trainable params: 6,000,000\n",
      "__________________________________________________________________________________________________\n"
     ]
    },
    {
     "name": "stdout",
     "output_type": "stream",
     "text": [
      "Train on 102125 samples, validate on 25532 samples\n",
      "Epoch 1/5\n",
      "102125/102125 [==============================] - 429s 4ms/step - loss: 0.0663 - acc: 0.9764 - val_loss: 0.0486 - val_acc: 0.9821\n",
      "Epoch 2/5\n",
      "102125/102125 [==============================] - 423s 4ms/step - loss: 0.0486 - acc: 0.9818 - val_loss: 0.0484 - val_acc: 0.9815\n",
      "Epoch 3/5\n",
      "102125/102125 [==============================] - 424s 4ms/step - loss: 0.0458 - acc: 0.9824 - val_loss: 0.0447 - val_acc: 0.9828\n",
      "Epoch 4/5\n",
      "102125/102125 [==============================] - 423s 4ms/step - loss: 0.0438 - acc: 0.9830 - val_loss: 0.0443 - val_acc: 0.9833\n",
      "Epoch 5/5\n",
      "102125/102125 [==============================] - 421s 4ms/step - loss: 0.0422 - acc: 0.9836 - val_loss: 0.0441 - val_acc: 0.9832\n",
      "<keras.callbacks.History object at 0x7fb710b7f470>\n",
      "acc: 98.30%\n",
      "Saved model to disk\n",
      "(31914, 7)\n",
      " In Fold 3... : \n",
      "\n",
      "TRAIN: 127657 TEST: 31914\n",
      "__________________________________________________________________________________________________\n",
      "Layer (type)                    Output Shape         Param #     Connected to                     \n",
      "==================================================================================================\n",
      "input_3 (InputLayer)            (None, 150)          0                                            \n",
      "__________________________________________________________________________________________________\n",
      "embedding_3 (Embedding)         (None, 150, 200)     6000000     input_3[0][0]                    \n",
      "__________________________________________________________________________________________________\n",
      "spatial_dropout1d_3 (SpatialDro (None, 150, 200)     0           embedding_3[0][0]                \n",
      "__________________________________________________________________________________________________\n",
      "bidirectional_3 (Bidirectional) (None, 150, 256)     336896      spatial_dropout1d_3[0][0]        \n",
      "__________________________________________________________________________________________________\n",
      "conv1d_3 (Conv1D)               (None, 148, 64)      49216       bidirectional_3[0][0]            \n",
      "__________________________________________________________________________________________________\n",
      "global_average_pooling1d_3 (Glo (None, 64)           0           conv1d_3[0][0]                   \n",
      "__________________________________________________________________________________________________\n",
      "global_max_pooling1d_3 (GlobalM (None, 64)           0           conv1d_3[0][0]                   \n",
      "__________________________________________________________________________________________________\n",
      "concatenate_3 (Concatenate)     (None, 128)          0           global_average_pooling1d_3[0][0] \n",
      "                                                                 global_max_pooling1d_3[0][0]     \n",
      "__________________________________________________________________________________________________\n",
      "dense_3 (Dense)                 (None, 6)            774         concatenate_3[0][0]              \n",
      "==================================================================================================\n",
      "Total params: 6,386,886\n",
      "Trainable params: 386,886\n",
      "Non-trainable params: 6,000,000\n",
      "__________________________________________________________________________________________________\n",
      "Train on 102125 samples, validate on 25532 samples\n",
      "Epoch 1/5\n",
      "102125/102125 [==============================] - 422s 4ms/step - loss: 0.0652 - acc: 0.9776 - val_loss: 0.0473 - val_acc: 0.9819\n",
      "Epoch 2/5\n",
      "102125/102125 [==============================] - 418s 4ms/step - loss: 0.0490 - acc: 0.9817 - val_loss: 0.0446 - val_acc: 0.9824\n",
      "Epoch 3/5\n",
      "102125/102125 [==============================] - 419s 4ms/step - loss: 0.0459 - acc: 0.9825 - val_loss: 0.0435 - val_acc: 0.9828\n",
      "Epoch 4/5\n",
      "102125/102125 [==============================] - 418s 4ms/step - loss: 0.0438 - acc: 0.9832 - val_loss: 0.0427 - val_acc: 0.9831\n",
      "Epoch 5/5\n",
      "102125/102125 [==============================] - 418s 4ms/step - loss: 0.0422 - acc: 0.9837 - val_loss: 0.0437 - val_acc: 0.9828\n",
      "<keras.callbacks.History object at 0x7fb7173022e8>\n",
      "acc: 98.36%\n",
      "Saved model to disk\n",
      "(31914, 7)\n",
      " In Fold 4... : \n",
      "\n",
      "TRAIN: 127657 TEST: 31914\n",
      "__________________________________________________________________________________________________\n",
      "Layer (type)                    Output Shape         Param #     Connected to                     \n",
      "==================================================================================================\n",
      "input_4 (InputLayer)            (None, 150)          0                                            \n",
      "__________________________________________________________________________________________________\n",
      "embedding_4 (Embedding)         (None, 150, 200)     6000000     input_4[0][0]                    \n",
      "__________________________________________________________________________________________________\n",
      "spatial_dropout1d_4 (SpatialDro (None, 150, 200)     0           embedding_4[0][0]                \n",
      "__________________________________________________________________________________________________\n",
      "bidirectional_4 (Bidirectional) (None, 150, 256)     336896      spatial_dropout1d_4[0][0]        \n",
      "__________________________________________________________________________________________________\n",
      "conv1d_4 (Conv1D)               (None, 148, 64)      49216       bidirectional_4[0][0]            \n",
      "__________________________________________________________________________________________________\n",
      "global_average_pooling1d_4 (Glo (None, 64)           0           conv1d_4[0][0]                   \n",
      "__________________________________________________________________________________________________\n",
      "global_max_pooling1d_4 (GlobalM (None, 64)           0           conv1d_4[0][0]                   \n",
      "__________________________________________________________________________________________________\n",
      "concatenate_4 (Concatenate)     (None, 128)          0           global_average_pooling1d_4[0][0] \n",
      "                                                                 global_max_pooling1d_4[0][0]     \n",
      "__________________________________________________________________________________________________\n",
      "dense_4 (Dense)                 (None, 6)            774         concatenate_4[0][0]              \n",
      "==================================================================================================\n",
      "Total params: 6,386,886\n",
      "Trainable params: 386,886\n",
      "Non-trainable params: 6,000,000\n",
      "__________________________________________________________________________________________________\n",
      "Train on 102125 samples, validate on 25532 samples\n",
      "Epoch 1/5\n",
      "102125/102125 [==============================] - 425s 4ms/step - loss: 0.0635 - acc: 0.9784 - val_loss: 0.0495 - val_acc: 0.9813\n",
      "Epoch 2/5\n",
      "102125/102125 [==============================] - 421s 4ms/step - loss: 0.0455 - acc: 0.9825 - val_loss: 0.0466 - val_acc: 0.9819\n",
      "Epoch 4/5\n",
      "102125/102125 [==============================] - 430s 4ms/step - loss: 0.0431 - acc: 0.9834 - val_loss: 0.0464 - val_acc: 0.9822\n",
      "Epoch 5/5\n",
      "102125/102125 [==============================] - 431s 4ms/step - loss: 0.0418 - acc: 0.9839 - val_loss: 0.0447 - val_acc: 0.9825\n",
      "<keras.callbacks.History object at 0x7fb713631d68>\n",
      "acc: 98.32%\n",
      "Saved model to disk\n",
      "(31914, 7)\n",
      " In Fold 5... : \n",
      "\n",
      "TRAIN: 127657 TEST: 31914\n",
      "__________________________________________________________________________________________________\n",
      "Layer (type)                    Output Shape         Param #     Connected to                     \n",
      "==================================================================================================\n",
      "input_5 (InputLayer)            (None, 150)          0                                            \n",
      "__________________________________________________________________________________________________\n",
      "embedding_5 (Embedding)         (None, 150, 200)     6000000     input_5[0][0]                    \n",
      "__________________________________________________________________________________________________\n",
      "spatial_dropout1d_5 (SpatialDro (None, 150, 200)     0           embedding_5[0][0]                \n",
      "__________________________________________________________________________________________________\n",
      "bidirectional_5 (Bidirectional) (None, 150, 256)     336896      spatial_dropout1d_5[0][0]        \n",
      "__________________________________________________________________________________________________\n",
      "conv1d_5 (Conv1D)               (None, 148, 64)      49216       bidirectional_5[0][0]            \n",
      "__________________________________________________________________________________________________\n",
      "global_average_pooling1d_5 (Glo (None, 64)           0           conv1d_5[0][0]                   \n",
      "__________________________________________________________________________________________________\n",
      "global_max_pooling1d_5 (GlobalM (None, 64)           0           conv1d_5[0][0]                   \n",
      "__________________________________________________________________________________________________\n",
      "concatenate_5 (Concatenate)     (None, 128)          0           global_average_pooling1d_5[0][0] \n",
      "                                                                 global_max_pooling1d_5[0][0]     \n",
      "__________________________________________________________________________________________________\n",
      "dense_5 (Dense)                 (None, 6)            774         concatenate_5[0][0]              \n",
      "==================================================================================================\n",
      "Total params: 6,386,886\n",
      "Trainable params: 386,886\n",
      "Non-trainable params: 6,000,000\n",
      "__________________________________________________________________________________________________\n"
     ]
    },
    {
     "name": "stdout",
     "output_type": "stream",
     "text": [
      "Train on 102125 samples, validate on 25532 samples\n",
      "Epoch 1/5\n",
      "102125/102125 [==============================] - 433s 4ms/step - loss: 0.0652 - acc: 0.9774 - val_loss: 0.0459 - val_acc: 0.9832\n",
      "Epoch 2/5\n",
      "102125/102125 [==============================] - 428s 4ms/step - loss: 0.0486 - acc: 0.9816 - val_loss: 0.0436 - val_acc: 0.9839\n",
      "Epoch 3/5\n",
      "102125/102125 [==============================] - 423s 4ms/step - loss: 0.0461 - acc: 0.9823 - val_loss: 0.0434 - val_acc: 0.9835\n",
      "Epoch 4/5\n",
      "102125/102125 [==============================] - 419s 4ms/step - loss: 0.0436 - acc: 0.9831 - val_loss: 0.0417 - val_acc: 0.9845\n",
      "Epoch 5/5\n",
      "102016/102125 [============================>.] - ETA: 0s - loss: 0.0421 - acc: 0.9836"
     ]
    }
   ],
   "source": [
    "#5-Fold Cross-Validation\n",
    "\n",
    "kf = KFold(n_splits=5)\n",
    "nfold=1\n",
    "cvscores = []\n",
    "\n",
    "#training params\n",
    "batch_size = 128 \n",
    "num_epochs = 5 \n",
    "\n",
    "for train_index, test_index in kf.split(seq_train):\n",
    "    print(f' In Fold {nfold}... : \\n')\n",
    "    print(\"TRAIN:\", len(train_index), \"TEST:\", len(test_index))\n",
    "    \n",
    "    seq_train_split=seq_train[train_index]\n",
    "    y_train_split = train_df[label_names].iloc[train_index ].values\n",
    "    \n",
    "    # train the model\n",
    "    model=init_BiLSTM_Conv_Model(embedding_matrix)\n",
    "    hist=pipeline.train_model(model,num_epochs,batch_size,seq_train_split,y_train_split)\n",
    "    \n",
    "    # evaluate the model\n",
    "    seq_test_split=seq_train[test_index]\n",
    "    y_test_split = train_df[label_names].iloc[test_index ].values\n",
    "    scores = model.evaluate(seq_test_split, y_test_split, verbose=0)\n",
    "    print(\"%s: %.2f%%\" % (model.metrics_names[1], scores[1]*100))\n",
    "    \n",
    "    # save the model\n",
    "    pipeline.save_model(model, f'models/{model_name}-{nfold}')\n",
    "    cvscores.append(scores[1] * 100)\n",
    "    \n",
    "    # save OOF predictions\n",
    "    y_test = model.predict(seq_test_split)\n",
    "    pipeline.create_submission_file(train_df.iloc[test_index],y_test,f'outputs/{model_name}_{nfold}_oof.csv')\n",
    "    \n",
    "    nfold +=1"
   ]
  },
  {
   "cell_type": "code",
   "execution_count": 15,
   "metadata": {
    "ExecuteTime": {
     "end_time": "2020-04-15T05:24:43.520928Z",
     "start_time": "2020-04-15T05:24:43.480188Z"
    }
   },
   "outputs": [
    {
     "data": {
      "text/plain": [
       "[98.2986042997446,\n",
       " 98.30116231974753,\n",
       " 98.35599707490319,\n",
       " 98.3246627715758,\n",
       " 98.36487507412231]"
      ]
     },
     "execution_count": 15,
     "metadata": {},
     "output_type": "execute_result"
    }
   ],
   "source": [
    "cvscores"
   ]
  },
  {
   "cell_type": "code",
   "execution_count": 17,
   "metadata": {
    "ExecuteTime": {
     "end_time": "2020-04-15T05:24:49.694101Z",
     "start_time": "2020-04-15T05:24:46.873477Z"
    }
   },
   "outputs": [
    {
     "name": "stdout",
     "output_type": "stream",
     "text": [
      "best_model_index : 5\n",
      "Loaded model from disk\n"
     ]
    }
   ],
   "source": [
    "best_model_index=cvscores.index(max(cvscores))+1\n",
    "print (f'best_model_index : {best_model_index}')\n",
    "best_model=pipeline.load_model(f'models/{model_name}-{best_model_index}')"
   ]
  },
  {
   "cell_type": "code",
   "execution_count": 18,
   "metadata": {
    "ExecuteTime": {
     "end_time": "2020-04-15T05:48:57.488781Z",
     "start_time": "2020-04-15T05:48:49.101748Z"
    }
   },
   "outputs": [
    {
     "name": "stdout",
     "output_type": "stream",
     "text": [
      "(153164, 7)\n"
     ]
    }
   ],
   "source": [
    "y_test = best_model.predict(seq_test)\n",
    "pipeline.create_submission_file(test_df,y_test,f'outputs/{model_name}_submission.csv')"
   ]
  },
  {
   "cell_type": "code",
   "execution_count": 19,
   "metadata": {
    "ExecuteTime": {
     "end_time": "2020-04-15T06:05:31.605099Z",
     "start_time": "2020-04-15T06:05:31.284918Z"
    }
   },
   "outputs": [
    {
     "name": "stdout",
     "output_type": "stream",
     "text": [
      "(159571, 7)\n"
     ]
    }
   ],
   "source": [
    "# concatenate OOF files\n",
    "dataframes = []\n",
    "filenames=[1,2,3,4,5]\n",
    "for i in filenames:\n",
    "    dataframes.append(pd.read_csv(f'outputs/{model_name}_{i}_oof.csv'))\n",
    "oof=dataframes[0]\n",
    "for df in dataframes[1:]:\n",
    "    oof=oof.append(df)\n",
    "print (oof.shape)\n",
    "oof.to_csv(f'outputs/{model_name}_oof.csv', index=False)"
   ]
  },
  {
   "cell_type": "code",
   "execution_count": null,
   "metadata": {},
   "outputs": [],
   "source": []
  }
 ],
 "metadata": {
  "kernelspec": {
   "display_name": "conda_tensorflow_p36",
   "language": "python",
   "name": "conda_tensorflow_p36"
  },
  "language_info": {
   "codemirror_mode": {
    "name": "ipython",
    "version": 3
   },
   "file_extension": ".py",
   "mimetype": "text/x-python",
   "name": "python",
   "nbconvert_exporter": "python",
   "pygments_lexer": "ipython3",
   "version": "3.6.6"
  }
 },
 "nbformat": 4,
 "nbformat_minor": 4
}
